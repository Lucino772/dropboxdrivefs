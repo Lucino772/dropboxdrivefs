{
 "cells": [
  {
   "cell_type": "markdown",
   "metadata": {},
   "source": [
    "Where to find your access token :https://blogs.dropbox.com/developers/2014/05/generate-an-access-token-for-your-own-account/"
   ]
  },
  {
   "cell_type": "code",
   "execution_count": 1,
   "metadata": {},
   "outputs": [],
   "source": [
    "import dropboxdrivefs as dbx\n",
    "import logging\n",
    "import os\n",
    "\n",
    "logging.basicConfig(format=\"%(levelname)s:%(message)s\", level=logging.INFO)"
   ]
  },
  {
   "cell_type": "code",
   "execution_count": 2,
   "metadata": {},
   "outputs": [],
   "source": [
    "token = \"*****\"\n",
    "fs = dbx.DropboxDriveFileSystem(token=token)"
   ]
  },
  {
   "cell_type": "markdown",
   "metadata": {},
   "source": [
    "## Create a folder"
   ]
  },
  {
   "cell_type": "code",
   "execution_count": 3,
   "metadata": {},
   "outputs": [
    {
     "name": "stderr",
     "output_type": "stream",
     "text": [
      "INFO:Request to files/create_folder_v2\n",
      "INFO:The directory/Data/test_dropbox has  been created.\n"
     ]
    }
   ],
   "source": [
    "fs.mkdir(\"/Data/test_dropbox\")"
   ]
  },
  {
   "cell_type": "code",
   "execution_count": 4,
   "metadata": {},
   "outputs": [
    {
     "name": "stderr",
     "output_type": "stream",
     "text": [
      "INFO:Request to files/get_metadata\n"
     ]
    },
    {
     "data": {
      "text/plain": [
       "{'id': 'id:mR5kuZYZaDMAAAAAAINA1Q',\n",
       " 'shared_folder_id': None,\n",
       " 'sharing_info': None,\n",
       " 'property_groups': None,\n",
       " 'name': '/Data/test_dropbox',\n",
       " 'size': None,\n",
       " 'type': 'directory'}"
      ]
     },
     "execution_count": 4,
     "metadata": {},
     "output_type": "execute_result"
    }
   ],
   "source": [
    "fs.info(\"/Data/test_dropbox\")"
   ]
  },
  {
   "cell_type": "markdown",
   "metadata": {},
   "source": [
    "## Upload"
   ]
  },
  {
   "cell_type": "code",
   "execution_count": 5,
   "metadata": {},
   "outputs": [
    {
     "name": "stderr",
     "output_type": "stream",
     "text": [
      "INFO:Request to files/upload_session/start\n",
      "INFO:Request to files/upload_session/finish\n"
     ]
    }
   ],
   "source": [
    "# Upload a file\n",
    "\n",
    "fs.put_file(\"example_file/test1.txt\", \"/Data/test_dropbox/text1.txt\")"
   ]
  },
  {
   "cell_type": "code",
   "execution_count": 6,
   "metadata": {},
   "outputs": [
    {
     "name": "stderr",
     "output_type": "stream",
     "text": [
      "INFO:Request to files/get_metadata\n",
      "INFO:Request to files/upload_session/start\n",
      "INFO:Request to files/upload_session/finish\n",
      "INFO:Request to files/upload_session/start\n",
      "INFO:Request to files/upload_session/finish\n"
     ]
    }
   ],
   "source": [
    "# Upload a folder with two files \n",
    "\n",
    "fs.upload(\"example_file/test_db\", \"/Data/test_dropbox/\", recursive=True)"
   ]
  },
  {
   "cell_type": "markdown",
   "metadata": {},
   "source": [
    "## Download a file"
   ]
  },
  {
   "cell_type": "code",
   "execution_count": 7,
   "metadata": {},
   "outputs": [
    {
     "name": "stderr",
     "output_type": "stream",
     "text": [
      "INFO:Request to files/get_metadata\n",
      "INFO:Request to files/get_temporary_link\n",
      "INFO:Request to files/get_metadata\n"
     ]
    }
   ],
   "source": [
    "fs.download(\"/Data/test_dropbox/text1.txt\", \"example_file/test.txt\")"
   ]
  },
  {
   "cell_type": "markdown",
   "metadata": {},
   "source": [
    "## Write in a file"
   ]
  },
  {
   "cell_type": "code",
   "execution_count": 8,
   "metadata": {},
   "outputs": [
    {
     "name": "stderr",
     "output_type": "stream",
     "text": [
      "INFO:Request to files/upload_session/start\n",
      "INFO:Request to files/upload_session/finish\n"
     ]
    }
   ],
   "source": [
    "with fs.open(\"/Data/test_dropbox/test.txt\", mode='w') as f:\n",
    "    f.write('Hello')"
   ]
  },
  {
   "cell_type": "markdown",
   "metadata": {},
   "source": [
    "Be careful, the mode \"append\" does not append the existing file. It creates a new file with the text wrotten by adding (2) in the path name. If this new file is identical with the existing file, nothing is uploaded. "
   ]
  },
  {
   "cell_type": "code",
   "execution_count": 9,
   "metadata": {},
   "outputs": [
    {
     "name": "stderr",
     "output_type": "stream",
     "text": [
      "INFO:Request to files/upload_session/start\n",
      "INFO:Request to files/upload_session/finish\n"
     ]
    }
   ],
   "source": [
    "with fs.open(\"/Data/test_dropbox/test.txt\", mode='a') as f:\n",
    "    f.write('world')"
   ]
  },
  {
   "cell_type": "markdown",
   "metadata": {},
   "source": [
    "## Read a file "
   ]
  },
  {
   "cell_type": "code",
   "execution_count": 10,
   "metadata": {},
   "outputs": [
    {
     "name": "stderr",
     "output_type": "stream",
     "text": [
      "INFO:Request to files/get_temporary_link\n",
      "INFO:Request to files/get_metadata\n"
     ]
    },
    {
     "name": "stdout",
     "output_type": "stream",
     "text": [
      "Hello\n"
     ]
    }
   ],
   "source": [
    "with fs.open(\"/Data/test_dropbox/test.txt\", mode=\"r\") as f:\n",
    "    print(f.read())"
   ]
  },
  {
   "cell_type": "markdown",
   "metadata": {},
   "source": [
    "## Read with intake\n",
    "\n",
    "Note that the path used has three ///: The path needs to be dropbox:// + /folder1/folder2 \n",
    "\n",
    "Without it, the dropbox sdk used in background will take as cloud path : /folder2 instead of /folder1/folder2"
   ]
  },
  {
   "cell_type": "code",
   "execution_count": 11,
   "metadata": {},
   "outputs": [],
   "source": [
    "import intake"
   ]
  },
  {
   "cell_type": "code",
   "execution_count": 12,
   "metadata": {},
   "outputs": [],
   "source": [
    "file_intake = intake.open_textfiles(\"dropbox:///Data/test_dropbox/test.txt\",storage_options={\"token\":token})\n"
   ]
  },
  {
   "cell_type": "code",
   "execution_count": 13,
   "metadata": {},
   "outputs": [
    {
     "data": {
      "text/plain": [
       "['Hello']"
      ]
     },
     "execution_count": 13,
     "metadata": {},
     "output_type": "execute_result"
    }
   ],
   "source": [
    "file_intake.read()"
   ]
  },
  {
   "cell_type": "markdown",
   "metadata": {},
   "source": [
    "## List all files before removing the folder online"
   ]
  },
  {
   "cell_type": "code",
   "execution_count": 16,
   "metadata": {},
   "outputs": [
    {
     "name": "stderr",
     "output_type": "stream",
     "text": [
      "INFO:Request to files/list_folder\n"
     ]
    },
    {
     "name": "stdout",
     "output_type": "stream",
     "text": [
      "/Data/test_dropbox\n",
      "/Data/test_dropbox/test_db\n",
      "/Data/test_dropbox/text1.txt\n",
      "/Data/test_dropbox/test_db/test1.txt\n",
      "/Data/test_dropbox/test_db/test2.txt\n",
      "/Data/test_dropbox/test.txt\n",
      "/Data/test_dropbox/test (1).txt\n",
      "\n",
      "Available info for folder type:\n",
      "['id', 'shared_folder_id', 'sharing_info', 'property_groups', 'name', 'size', 'type']\n",
      "\n",
      "Available info for file type:\n",
      "['id', 'client_modified', 'server_modified', 'rev', 'size', 'media_info', 'symlink_info', 'sharing_info', 'is_downloadable', 'export_info', 'property_groups', 'has_explicit_shared_members', 'content_hash', 'file_lock_info', 'name', 'type']\n"
     ]
    }
   ],
   "source": [
    "items = fs.ls(\"/Data/test_dropbox\")\n",
    "for item in items:\n",
    "    print(item[\"name\"])\n",
    "\n",
    "print(\"\\nAvailable info for folder type:\")\n",
    "print(list(items[0].keys()))\n",
    "\n",
    "print(\"\\nAvailable info for file type:\")\n",
    "print(list(items[-1].keys()))"
   ]
  },
  {
   "cell_type": "code",
   "execution_count": 17,
   "metadata": {},
   "outputs": [
    {
     "name": "stderr",
     "output_type": "stream",
     "text": [
      "INFO:Request to files/delete_v2\n",
      "INFO:The directory/Data/test_dropbox has been erased.\n"
     ]
    }
   ],
   "source": [
    "fs.rm(\"/Data/test_dropbox\")\n",
    "os.remove(\"example_file/test.txt\")"
   ]
  }
 ],
 "metadata": {
  "kernelspec": {
   "display_name": "Python 3 (ipykernel)",
   "language": "python",
   "name": "python3"
  },
  "language_info": {
   "codemirror_mode": {
    "name": "ipython",
    "version": 3
   },
   "file_extension": ".py",
   "mimetype": "text/x-python",
   "name": "python",
   "nbconvert_exporter": "python",
   "pygments_lexer": "ipython3",
   "version": "3.7.11"
  }
 },
 "nbformat": 4,
 "nbformat_minor": 4
}
